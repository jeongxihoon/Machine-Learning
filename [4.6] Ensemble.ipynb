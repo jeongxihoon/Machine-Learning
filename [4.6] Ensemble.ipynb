{
 "cells": [
  {
   "cell_type": "markdown",
   "metadata": {},
   "source": [
    "# [4.6] 앙상블 (Ensemble) 기법\n"
   ]
  },
  {
   "cell_type": "markdown",
   "metadata": {},
   "source": [
    "## 이론\n",
    "\n",
    "\n",
    "> 여러 개의 분류 모델을 조합해서 더 나은 성능을 내는 방법\n",
    "\n",
    "\n",
    "앙상블(Ensemble) 기법에는 크게 배깅(Bagging), 부스팅(Boosting) 이렇게 2가지 방식이 있다.\n",
    "\n"
   ]
  },
  {
   "cell_type": "markdown",
   "metadata": {},
   "source": [
    "## 배깅(Bagging)\n",
    "\n",
    "\n",
    "> 한 종류의 분류 모델을 여러 개 만든 후, 서로 다른 학습 Data로 학습시키고 동일한 테스트 Data에 대한 예측값들을 투표해서 가장 높은 예측값으로 결론내리는 기법\n",
    "\n",
    "\n",
    "배깅(Bagging)은 부트스트랩(Bootstrap)과 어그리게이팅(Aggregating)의 줄임말이다.\n",
    "\n",
    "\n",
    "배깅은 과대적합이 쉬운 모델에 굉장히 적합한 앙상블 기법이다. 대표적으로 과대적합이 쉬운 '의사결정 트리(Decision Tree)'모델에 많이 사용된다.\n",
    "\n",
    "\n",
    "### 부트스트랩(Bootstrap)\n",
    "\n",
    "\n",
    "> Data를 일부러 편향되도록 Sampling하는 기법\n",
    "\n",
    "\n",
    "과대적합 모델은 학습 Data에 대해서는 높은 정확도를 보여주지만, 그 외의 새로운 Data에 대해서는 낮은 정확도를 보여준다.\n",
    "\n",
    "\n",
    "부트스트랩(Bootstrap) 기법을 통해서 Data를 Sampling할 때, 편향(bias)을 높여서 과대적합 위험성을 줄이는 것이다.\n",
    "\n",
    "\n",
    "부트스트랩은 n개의 Data를 k개의 학습 Data로 나눌 때, **중복을 허용**해서 편향을 높이는 방식을 사용한다.\n",
    "\n",
    "\n",
    "일반적으로 Data의 총 개수인 n개보다 적은 개수의 Data를 할당하게 된다.(일반적으로 전체 Data의 6~70%정도)\n",
    "\n",
    "\n",
    "예를 들면,\n",
    "\n",
    "\n",
    "전체 Data : [1, 2, 3, 4, 5]일 때 5개의 학습 Data를 부트스트랩 기법을 사용해서 나누면,\n",
    "\n",
    "\n",
    "학습 Data 1 : [1, 3, 4]\n",
    "학습 Data 2 : [1, 2, 5]\n",
    "학습 Data 3 : [3, 5, 4]\n",
    "학습 Data 4 : [2, 4, 1]\n",
    "학습 Data 5 : [1, 4, 5]\n",
    "\n",
    "\n",
    "이렇게 중복을 허용해서 나누게 되는 것이다.\n",
    "\n",
    "\n",
    "### 어그리게이팅(Aggregating)\n",
    "\n",
    "\n",
    "> 여러 분류 모델이 예측한 값을 '투표'를 통해서 하나의 결론으로 도달하는 과정\n",
    "\n",
    "\n",
    "#### 하드 보팅(Hard Voting)\n",
    "\n",
    "\n",
    "> 여러 개의 분류 모델에서 나온 결과 중 가장 많이 나온 예측값을 선정하는 것\n",
    "\n",
    "\n",
    "만약 숫자를 1 ~ 5로 분류하는 의사결정 트리 5개를 학습했다고 하자. 이때 5개의 결과 중 가장 많이 나온 결과로 예측값을 선정하는 것이다.\n",
    "\n",
    "\n",
    "#### 소프트 보팅(Soft Voting)\n",
    "\n",
    "\n",
    "> 각 분류값의 확률을 더한 값을 점수로 사용해서 가장 높은 점수를 가지는 분류값을 선정하는 것\n",
    "\n",
    "\n",
    "k개의 모델이 각 레이블로 분류할 확률을 레이블 별로 합산해서 제일 높은 점수를 가지는 것으로 예측값(레이블)을 선정하는 것이다.\n",
    "\n",
    "\n",
    "　\n",
    "\n",
    "\n",
    "### 랜덤 포레스트(Random Forest)\n",
    "\n",
    "\n",
    "> 여러 개의 의사결정 트리를 배깅해서 예측을 실행하는 모델\n",
    "\n",
    "\n",
    "의사결정 트리(나무)를 여러개 모아놓았다고 해서 '랜덤 포레스트(Random Forest)'라는 이름이 붙여졌다.\n",
    "\n",
    "\n",
    "의사결정 트리 기법에서 배깅을 사용한 대표적인 알고리즘이다."
   ]
  },
  {
   "cell_type": "markdown",
   "metadata": {},
   "source": [
    "## 부스팅(Boosting)\n",
    "\n",
    "\n",
    "> 동일한 알고리즘의 분류기를 순차적으로 학습해서 여러 개의 분류기를 만든 후, 테스트 단계에서 가중 투표를 통해 예측값을 결정하는 기법\n",
    "\n",
    "\n",
    "배깅(Bagging)은 여러 분류기 모델을 병렬적으로 학습시켜서 예측값을 얻어내는 기법이라면,\n",
    "\n",
    "\n",
    "**부스팅(Boosting)**은 동일한 분류기를 **순차적으로 학습**시켜서 여러 개의 분류기 모델을 만들고, **가중 투표**를 통해 예측값을 얻어내는 기법이다.\n",
    "\n",
    "\n",
    "### 순차적 학습\n",
    "\n",
    "\n",
    "말 그대로 '순차적으로' 학습하는 과정을 의미한다.\n",
    "\n",
    "\n",
    "먼저 첫 번째 분류기를 학습하게 된다. 만약 첫 번째 학습에서 미흡한 부분이 발견되면, 그 부분에 대한 학습 Data를 보강해서 다시 학습시켜 두 번째 분류기를 만든다.\n",
    "\n",
    "\n",
    "그리고 두 번째 학습의 테스트 결과에 따라서 또 미흡한 부분의 학습 Data를 보강하여 다시 학습을 시켜 세 번째 분류기를 만든다.\n",
    "\n",
    "\n",
    "이러한 과정을 반복함으로써 여러 개의 분류기를 만들게 되는 것이다.\n",
    "\n",
    "\n",
    "이 과정을 통해서 부스팅 기법은 동일한 알고리즘을 가지는 여러 개의 분류기를 만들게 되는 것이다.\n",
    "\n",
    "\n",
    "### 가중 투표\n",
    "\n",
    "\n",
    "> 더 많은 학습을 거친 분류기에 따라서 높은 가중치를 부여해서 분류값을 선정하는 것\n",
    "\n",
    "\n",
    "가중 투표에도 하드 보팅(Hard Voting)과 소프트 보팅(Soft Voting) 2가지가 있다. 이는 위에서 설명한 하드 보팅, 소프트 보팅과 동일하다. 다만 가중치가 부여될 뿐.\n",
    "\n",
    "\n",
    "예시를 통해서 알아보도록 하겠다.\n",
    "\n",
    "\n",
    "예를 들어, 사진을 보고 남자인지 여자인지 분류하는 분류기가 있다고 가정하자\n",
    "\n",
    "\n",
    "각 분류기가 보여주는 정확도와 분류값이 다음과 같다.\n",
    "\n",
    "\n",
    "| | 분류기1 | 분류기2 | 분류기3 |\n",
    "|--------|-----|-----|------|\n",
    "| 정확도 | 0.4 | 0.5 | 0.95 |\n",
    "| 분류값 | 남자 | 남자 | 여자 |\n",
    "\n",
    "\n",
    "먼저 **하드 보팅의 경우** 가중 투표를 진행하면 다음과 같다.\n",
    "\n",
    "\n",
    "- 남자 = 0.4 + 0.5\n",
    "- 여자 = 0.95\n",
    "\n",
    "\n",
    "따라서 분류기 2개가 남자로 분류했음에도 불구하고 최종적인 분류값은 여자로 분류하게 된다.\n",
    "\n",
    "\n",
    "**소프트 보팅의 경우** 가중 투표를 진행하면 다음과 같다.\n",
    "\n",
    "\n",
    "| | 분류기1 | 분류기2 | 분류기3 |\n",
    "|--------|-----|-----|------|\n",
    "| 분류값 | 남자:0.7, 여자:0.3 | 남자:0.8, 여자:0.2 | 남자:0.1, 여자:0.9 |\n",
    "\n",
    "\n",
    "- 남자 = 0.4x0.7 + 0.5x0.8 + 0.95x0.1 = 0.775\n",
    "- 여자 = 0.4x0.3 + 0.5x0.2 + 0.95x0.9 = 1.075\n",
    "- 즉, (분류기의 정확도) x (분류값으로 분류할 확률)을 각 레이블 별로 모두 더하는 것이다.\n",
    "\n",
    "\n",
    "　\n",
    "\n",
    "\n",
    "　\n",
    "\n"
   ]
  },
  {
   "cell_type": "markdown",
   "metadata": {},
   "source": [
    "## 예제1) 랜덤 포레스트 손글씨 분류\n",
    "\n",
    "\n",
    "MNIST 손글씨 데이터셋 이용"
   ]
  },
  {
   "cell_type": "code",
   "execution_count": 1,
   "metadata": {},
   "outputs": [],
   "source": [
    "# 사용할 모듈 Import하기\n",
    "\n",
    "from sklearn import datasets\n",
    "from sklearn import tree\n",
    "from sklearn.ensemble import RandomForestClassifier\n",
    "from sklearn.model_selection import cross_val_score\n",
    "import matplotlib.pyplot as plt\n",
    "import pandas as pd\n",
    "import numpy as np"
   ]
  },
  {
   "cell_type": "markdown",
   "metadata": {},
   "source": [
    "### Data 불러오기"
   ]
  },
  {
   "cell_type": "code",
   "execution_count": 2,
   "metadata": {},
   "outputs": [],
   "source": [
    "mnist = datasets.load_digits()\n",
    "features = mnist.data\n",
    "labels = mnist.target"
   ]
  },
  {
   "cell_type": "markdown",
   "metadata": {},
   "source": [
    "### 교차 검증"
   ]
  },
  {
   "cell_type": "code",
   "execution_count": 3,
   "metadata": {},
   "outputs": [],
   "source": [
    "def cross_validation(classifier, features, labels):\n",
    "    cv_scores = []\n",
    "    for i in range(10):  # 교차 검증 10번 수행\n",
    "        scores = cross_val_score(classifier, features, labels, \n",
    "                                cv = 10, scoring = 'accuracy')\n",
    "        cv_scores.append(scores.mean())\n",
    "    return cv_scores"
   ]
  },
  {
   "cell_type": "code",
   "execution_count": 4,
   "metadata": {},
   "outputs": [],
   "source": [
    "dt_cv_scores = cross_validation(tree.DecisionTreeClassifier(),\n",
    "                               features, labels)"
   ]
  },
  {
   "cell_type": "code",
   "execution_count": 5,
   "metadata": {},
   "outputs": [],
   "source": [
    "rf_cv_scores = cross_validation(RandomForestClassifier(),\n",
    "                               features, labels)"
   ]
  },
  {
   "cell_type": "code",
   "execution_count": 6,
   "metadata": {},
   "outputs": [],
   "source": [
    "### 랜덤 포레트스 vs 의사결정 트리의 정확도 시각화"
   ]
  },
  {
   "cell_type": "code",
   "execution_count": 7,
   "metadata": {},
   "outputs": [
    {
     "data": {
      "text/plain": [
       "<AxesSubplot:>"
      ]
     },
     "execution_count": 7,
     "metadata": {},
     "output_type": "execute_result"
    },
    {
     "data": {
      "image/png": "[encoded data removed]",
      "text/plain": [
       "<Figure size 432x288 with 1 Axes>"
      ]
     },
     "metadata": {
      "needs_background": "light"
     },
     "output_type": "display_data"
    }
   ],
   "source": [
    "cv_list = [\n",
    "    ['random_forest', rf_cv_scores],\n",
    "    ['decision_tree', dt_cv_scores]\n",
    "]\n",
    "\n",
    "df = pd.DataFrame.from_dict(dict(cv_list))\n",
    "df.plot()"
   ]
  },
  {
   "cell_type": "code",
   "execution_count": 8,
   "metadata": {},
   "outputs": [
    {
     "data": {
      "text/plain": [
       "0.8252430167597765"
      ]
     },
     "execution_count": 8,
     "metadata": {},
     "output_type": "execute_result"
    }
   ],
   "source": [
    "np.mean(dt_cv_scores)"
   ]
  },
  {
   "cell_type": "code",
   "execution_count": 9,
   "metadata": {},
   "outputs": [
    {
     "data": {
      "text/plain": [
       "0.9502420856610799"
      ]
     },
     "execution_count": 9,
     "metadata": {},
     "output_type": "execute_result"
    }
   ],
   "source": [
    "np.mean(rf_cv_scores)"
   ]
  },
  {
   "cell_type": "markdown",
   "metadata": {},
   "source": [
    "## 예제2) 보팅 앙상블 손글씨 분류"
   ]
  },
  {
   "cell_type": "code",
   "execution_count": 10,
   "metadata": {},
   "outputs": [],
   "source": [
    "# 사용할 모듈 Import하기\n",
    "\n",
    "from sklearn import datasets\n",
    "from sklearn import tree\n",
    "from sklearn.neighbors import KNeighborsClassifier\n",
    "from sklearn.svm import SVC\n",
    "from sklearn.ensemble import VotingClassifier\n",
    "from sklearn.model_selection import train_test_split\n",
    "from sklearn.metrics import accuracy_score"
   ]
  },
  {
   "cell_type": "code",
   "execution_count": 11,
   "metadata": {},
   "outputs": [],
   "source": [
    "mnist = datasets.load_digits()\n",
    "features = mnist.data\n",
    "labels = mnist.target\n",
    "\n",
    "X_train, X_test, y_train, y_test = train_test_split(features, labels, test_size = 0.2)"
   ]
  },
  {
   "cell_type": "markdown",
   "metadata": {},
   "source": [
    "### 단일 모델의 정확도 측정\n",
    "\n",
    "\n",
    "앙상블 기법을 사용하기 전, 개별 모델(의사결정 트리, kNN, SVM)들 각각의 정확도를 측정해보았다."
   ]
  },
  {
   "cell_type": "code",
   "execution_count": 12,
   "metadata": {},
   "outputs": [
    {
     "name": "stdout",
     "output_type": "stream",
     "text": [
      "[ Accuracy ]\n",
      "d-tree : 0.7916666666666666\n",
      "knn : 0.8416666666666667\n",
      "svm : 0.9333333333333333\n"
     ]
    }
   ],
   "source": [
    "# 의사결정 트리 모델\n",
    "\n",
    "dtree = tree.DecisionTreeClassifier(criterion = 'gini', max_depth = 8,\n",
    "                                   max_features = 32, random_state = 35)\n",
    "dtree = dtree.fit(X_train, y_train)\n",
    "dtree_predicted = dtree.predict(X_test)\n",
    "\n",
    "\n",
    "# kNN 모델\n",
    "\n",
    "knn = KNeighborsClassifier(n_neighbors = 299).fit(X_train, y_train)\n",
    "knn_predicted = knn.predict(X_test)\n",
    "\n",
    "\n",
    "# SVM 모델\n",
    "\n",
    "svm = SVC(C = 0.1, gamma = 0.003, probability = True, random_state = 35).fit(X_train, y_train)\n",
    "svm_predicted = svm.predict(X_test)\n",
    "\n",
    "\n",
    "# 정확도 출력\n",
    "\n",
    "print('[ Accuracy ]')\n",
    "print('d-tree : {}'.format(accuracy_score(y_test, dtree_predicted)))\n",
    "print('knn : {}'.format(accuracy_score(y_test, knn_predicted)))\n",
    "print('svm : {}'.format(accuracy_score(y_test, svm_predicted)))"
   ]
  },
  {
   "cell_type": "markdown",
   "metadata": {},
   "source": [
    "### 분류값별 확률 확인"
   ]
  },
  {
   "cell_type": "code",
   "execution_count": 13,
   "metadata": {},
   "outputs": [
    {
     "name": "stdout",
     "output_type": "stream",
     "text": [
      "360\n",
      "[[6.41560962e-04 2.54455579e-04 3.38139172e-04 1.30236912e-03\n",
      "  2.42455584e-04 4.19438691e-03 9.47272363e-05 1.69346686e-04\n",
      "  9.52203474e-04 9.91810355e-01]\n",
      " [7.14790085e-04 1.14413089e-03 9.80044946e-01 3.66871386e-03\n",
      "  1.68992545e-03 3.72483364e-03 4.34067688e-04 9.24115362e-04\n",
      "  5.24511770e-03 2.40935932e-03]]\n"
     ]
    }
   ],
   "source": [
    "svm_proba = svm.predict_proba(X_test)\n",
    "print(len(svm_proba))\n",
    "print(svm_proba[0:2])\n",
    "# print(svm_proba[0].sum())"
   ]
  },
  {
   "cell_type": "markdown",
   "metadata": {},
   "source": [
    "### 하드 보팅"
   ]
  },
  {
   "cell_type": "code",
   "execution_count": 14,
   "metadata": {},
   "outputs": [
    {
     "data": {
      "text/plain": [
       "0.9194444444444444"
      ]
     },
     "execution_count": 14,
     "metadata": {},
     "output_type": "execute_result"
    }
   ],
   "source": [
    "voting_clf = VotingClassifier(estimators = [\n",
    "    ('decision_tree', dtree), ('knn', knn), ('svm', svm)],\n",
    "                             weights = [1, 1, 1], voting = 'hard').fit(X_train, y_train)\n",
    "\n",
    "hard_voting_predicted = voting_clf.predict(X_test)\n",
    "accuracy_score(y_test, hard_voting_predicted)"
   ]
  },
  {
   "cell_type": "markdown",
   "metadata": {},
   "source": [
    "### 소프트 보팅"
   ]
  },
  {
   "cell_type": "code",
   "execution_count": 15,
   "metadata": {},
   "outputs": [
    {
     "data": {
      "text/plain": [
       "0.9083333333333333"
      ]
     },
     "execution_count": 15,
     "metadata": {},
     "output_type": "execute_result"
    }
   ],
   "source": [
    "voting_clf = VotingClassifier(estimators = [\n",
    "    ('decision_tree', dtree), ('knn', knn), ('svm', svm)],\n",
    "                             weights = [1, 1, 1], voting = 'soft').fit(X_train, y_train)\n",
    "\n",
    "soft_voting_predicted = voting_clf.predict(X_test)\n",
    "accuracy_score(y_test, soft_voting_predicted)"
   ]
  },
  {
   "cell_type": "markdown",
   "metadata": {},
   "source": [
    "### 단일 모델과 앙상블 모델의 정확도 비교 시각화"
   ]
  },
  {
   "cell_type": "code",
   "execution_count": 16,
   "metadata": {},
   "outputs": [
    {
     "data": {
      "image/png": "[encoded data removed]",
      "text/plain": [
       "<Figure size 432x288 with 1 Axes>"
      ]
     },
     "metadata": {
      "needs_background": "light"
     },
     "output_type": "display_data"
    }
   ],
   "source": [
    "import matplotlib.pyplot as plt\n",
    "import numpy as np\n",
    "%matplotlib inline\n",
    "\n",
    "\n",
    "x = np.arange(5)\n",
    "\n",
    "height_lists = [\n",
    "    dtree_predicted,\n",
    "    knn_predicted,\n",
    "    svm_predicted,\n",
    "    hard_voting_predicted,\n",
    "    soft_voting_predicted\n",
    "]\n",
    "\n",
    "heights = []\n",
    "for height_list in height_lists:\n",
    "    heights.append(accuracy_score(y_test, height_list))\n",
    "\n",
    "plt.bar(x, height = heights)\n",
    "plt.xticks(x, ['decistion tree', 'knn', 'svm', 'hard voting', 'soft voting'])\n",
    "plt.show()"
   ]
  }
 ],
 "metadata": {
  "kernelspec": {
   "display_name": "Python 3",
   "language": "python",
   "name": "python3"
  },
  "language_info": {
   "codemirror_mode": {
    "name": "ipython",
    "version": 3
   },
   "file_extension": ".py",
   "mimetype": "text/x-python",
   "name": "python",
   "nbconvert_exporter": "python",
   "pygments_lexer": "ipython3",
   "version": "3.7.4"
  }
 },
 "nbformat": 4,
 "nbformat_minor": 4
}
